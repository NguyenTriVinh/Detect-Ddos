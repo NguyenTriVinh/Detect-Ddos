{
 "cells": [
  {
   "cell_type": "code",
   "execution_count": null,
   "id": "88820fd1",
   "metadata": {},
   "outputs": [
    {
     "name": "stdout",
     "output_type": "stream",
     "text": [
      "Requirement already satisfied: notebook in c:\\users\\hp\\appdata\\local\\packages\\pythonsoftwarefoundation.python.3.11_qbz5n2kfra8p0\\localcache\\local-packages\\python311\\site-packages (7.4.0)\n",
      "Requirement already satisfied: jupyter in c:\\users\\hp\\appdata\\local\\packages\\pythonsoftwarefoundation.python.3.11_qbz5n2kfra8p0\\localcache\\local-packages\\python311\\site-packages (1.1.1)\n",
      "Requirement already satisfied: jupyter-server<3,>=2.4.0 in c:\\users\\hp\\appdata\\local\\packages\\pythonsoftwarefoundation.python.3.11_qbz5n2kfra8p0\\localcache\\local-packages\\python311\\site-packages (from notebook) (2.15.0)\n",
      "Requirement already satisfied: jupyterlab-server<3,>=2.27.1 in c:\\users\\hp\\appdata\\local\\packages\\pythonsoftwarefoundation.python.3.11_qbz5n2kfra8p0\\localcache\\local-packages\\python311\\site-packages (from notebook) (2.27.3)\n",
      "Requirement already satisfied: jupyterlab<4.5,>=4.4.0rc0 in c:\\users\\hp\\appdata\\local\\packages\\pythonsoftwarefoundation.python.3.11_qbz5n2kfra8p0\\localcache\\local-packages\\python311\\site-packages (from notebook) (4.4.0)\n",
      "Requirement already satisfied: notebook-shim<0.3,>=0.2 in c:\\users\\hp\\appdata\\local\\packages\\pythonsoftwarefoundation.python.3.11_qbz5n2kfra8p0\\localcache\\local-packages\\python311\\site-packages (from notebook) (0.2.4)\n",
      "Requirement already satisfied: tornado>=6.2.0 in c:\\users\\hp\\appdata\\local\\packages\\pythonsoftwarefoundation.python.3.11_qbz5n2kfra8p0\\localcache\\local-packages\\python311\\site-packages (from notebook) (6.4.2)\n",
      "Requirement already satisfied: jupyter-console in c:\\users\\hp\\appdata\\local\\packages\\pythonsoftwarefoundation.python.3.11_qbz5n2kfra8p0\\localcache\\local-packages\\python311\\site-packages (from jupyter) (6.6.3)\n",
      "Requirement already satisfied: nbconvert in c:\\users\\hp\\appdata\\local\\packages\\pythonsoftwarefoundation.python.3.11_qbz5n2kfra8p0\\localcache\\local-packages\\python311\\site-packages (from jupyter) (7.16.6)\n",
      "Requirement already satisfied: ipykernel in c:\\users\\hp\\appdata\\local\\packages\\pythonsoftwarefoundation.python.3.11_qbz5n2kfra8p0\\localcache\\local-packages\\python311\\site-packages (from jupyter) (6.29.5)\n",
      "Requirement already satisfied: ipywidgets in c:\\users\\hp\\appdata\\local\\packages\\pythonsoftwarefoundation.python.3.11_qbz5n2kfra8p0\\localcache\\local-packages\\python311\\site-packages (from jupyter) (8.1.6)\n",
      "Requirement already satisfied: anyio>=3.1.0 in c:\\users\\hp\\appdata\\local\\packages\\pythonsoftwarefoundation.python.3.11_qbz5n2kfra8p0\\localcache\\local-packages\\python311\\site-packages (from jupyter-server<3,>=2.4.0->notebook) (4.9.0)\n",
      "Requirement already satisfied: argon2-cffi>=21.1 in c:\\users\\hp\\appdata\\local\\packages\\pythonsoftwarefoundation.python.3.11_qbz5n2kfra8p0\\localcache\\local-packages\\python311\\site-packages (from jupyter-server<3,>=2.4.0->notebook) (23.1.0)\n",
      "Requirement already satisfied: jinja2>=3.0.3 in c:\\users\\hp\\appdata\\local\\packages\\pythonsoftwarefoundation.python.3.11_qbz5n2kfra8p0\\localcache\\local-packages\\python311\\site-packages (from jupyter-server<3,>=2.4.0->notebook) (3.1.6)\n",
      "Requirement already satisfied: jupyter-client>=7.4.4 in c:\\users\\hp\\appdata\\local\\packages\\pythonsoftwarefoundation.python.3.11_qbz5n2kfra8p0\\localcache\\local-packages\\python311\\site-packages (from jupyter-server<3,>=2.4.0->notebook) (8.6.3)\n",
      "Requirement already satisfied: jupyter-core!=5.0.*,>=4.12 in c:\\users\\hp\\appdata\\local\\packages\\pythonsoftwarefoundation.python.3.11_qbz5n2kfra8p0\\localcache\\local-packages\\python311\\site-packages (from jupyter-server<3,>=2.4.0->notebook) (5.7.2)\n",
      "Requirement already satisfied: jupyter-events>=0.11.0 in c:\\users\\hp\\appdata\\local\\packages\\pythonsoftwarefoundation.python.3.11_qbz5n2kfra8p0\\localcache\\local-packages\\python311\\site-packages (from jupyter-server<3,>=2.4.0->notebook) (0.12.0)\n",
      "Requirement already satisfied: jupyter-server-terminals>=0.4.4 in c:\\users\\hp\\appdata\\local\\packages\\pythonsoftwarefoundation.python.3.11_qbz5n2kfra8p0\\localcache\\local-packages\\python311\\site-packages (from jupyter-server<3,>=2.4.0->notebook) (0.5.3)\n",
      "Requirement already satisfied: nbformat>=5.3.0 in c:\\users\\hp\\appdata\\local\\packages\\pythonsoftwarefoundation.python.3.11_qbz5n2kfra8p0\\localcache\\local-packages\\python311\\site-packages (from jupyter-server<3,>=2.4.0->notebook) (5.10.4)\n",
      "Requirement already satisfied: overrides>=5.0 in c:\\users\\hp\\appdata\\local\\packages\\pythonsoftwarefoundation.python.3.11_qbz5n2kfra8p0\\localcache\\local-packages\\python311\\site-packages (from jupyter-server<3,>=2.4.0->notebook) (7.7.0)\n",
      "Requirement already satisfied: packaging>=22.0 in c:\\users\\hp\\appdata\\local\\packages\\pythonsoftwarefoundation.python.3.11_qbz5n2kfra8p0\\localcache\\local-packages\\python311\\site-packages (from jupyter-server<3,>=2.4.0->notebook) (24.2)\n",
      "Requirement already satisfied: prometheus-client>=0.9 in c:\\users\\hp\\appdata\\local\\packages\\pythonsoftwarefoundation.python.3.11_qbz5n2kfra8p0\\localcache\\local-packages\\python311\\site-packages (from jupyter-server<3,>=2.4.0->notebook) (0.21.1)\n",
      "Requirement already satisfied: pywinpty>=2.0.1 in c:\\users\\hp\\appdata\\local\\packages\\pythonsoftwarefoundation.python.3.11_qbz5n2kfra8p0\\localcache\\local-packages\\python311\\site-packages (from jupyter-server<3,>=2.4.0->notebook) (2.0.15)\n",
      "Requirement already satisfied: pyzmq>=24 in c:\\users\\hp\\appdata\\local\\packages\\pythonsoftwarefoundation.python.3.11_qbz5n2kfra8p0\\localcache\\local-packages\\python311\\site-packages (from jupyter-server<3,>=2.4.0->notebook) (26.4.0)\n",
      "Requirement already satisfied: send2trash>=1.8.2 in c:\\users\\hp\\appdata\\local\\packages\\pythonsoftwarefoundation.python.3.11_qbz5n2kfra8p0\\localcache\\local-packages\\python311\\site-packages (from jupyter-server<3,>=2.4.0->notebook) (1.8.3)\n",
      "Requirement already satisfied: terminado>=0.8.3 in c:\\users\\hp\\appdata\\local\\packages\\pythonsoftwarefoundation.python.3.11_qbz5n2kfra8p0\\localcache\\local-packages\\python311\\site-packages (from jupyter-server<3,>=2.4.0->notebook) (0.18.1)\n",
      "Requirement already satisfied: traitlets>=5.6.0 in c:\\users\\hp\\appdata\\local\\packages\\pythonsoftwarefoundation.python.3.11_qbz5n2kfra8p0\\localcache\\local-packages\\python311\\site-packages (from jupyter-server<3,>=2.4.0->notebook) (5.14.3)\n",
      "Requirement already satisfied: websocket-client>=1.7 in c:\\users\\hp\\appdata\\local\\packages\\pythonsoftwarefoundation.python.3.11_qbz5n2kfra8p0\\localcache\\local-packages\\python311\\site-packages (from jupyter-server<3,>=2.4.0->notebook) (1.8.0)\n",
      "Requirement already satisfied: async-lru>=1.0.0 in c:\\users\\hp\\appdata\\local\\packages\\pythonsoftwarefoundation.python.3.11_qbz5n2kfra8p0\\localcache\\local-packages\\python311\\site-packages (from jupyterlab<4.5,>=4.4.0rc0->notebook) (2.0.5)\n",
      "Requirement already satisfied: httpx>=0.25.0 in c:\\users\\hp\\appdata\\local\\packages\\pythonsoftwarefoundation.python.3.11_qbz5n2kfra8p0\\localcache\\local-packages\\python311\\site-packages (from jupyterlab<4.5,>=4.4.0rc0->notebook) (0.28.1)\n",
      "Requirement already satisfied: jupyter-lsp>=2.0.0 in c:\\users\\hp\\appdata\\local\\packages\\pythonsoftwarefoundation.python.3.11_qbz5n2kfra8p0\\localcache\\local-packages\\python311\\site-packages (from jupyterlab<4.5,>=4.4.0rc0->notebook) (2.2.5)\n",
      "Requirement already satisfied: setuptools>=41.1.0 in c:\\users\\hp\\appdata\\local\\packages\\pythonsoftwarefoundation.python.3.11_qbz5n2kfra8p0\\localcache\\local-packages\\python311\\site-packages (from jupyterlab<4.5,>=4.4.0rc0->notebook) (78.1.0)\n",
      "Requirement already satisfied: comm>=0.1.1 in c:\\users\\hp\\appdata\\local\\packages\\pythonsoftwarefoundation.python.3.11_qbz5n2kfra8p0\\localcache\\local-packages\\python311\\site-packages (from ipykernel->jupyter) (0.2.2)\n",
      "Requirement already satisfied: debugpy>=1.6.5 in c:\\users\\hp\\appdata\\local\\packages\\pythonsoftwarefoundation.python.3.11_qbz5n2kfra8p0\\localcache\\local-packages\\python311\\site-packages (from ipykernel->jupyter) (1.8.14)\n",
      "Requirement already satisfied: ipython>=7.23.1 in c:\\users\\hp\\appdata\\local\\packages\\pythonsoftwarefoundation.python.3.11_qbz5n2kfra8p0\\localcache\\local-packages\\python311\\site-packages (from ipykernel->jupyter) (9.1.0)\n",
      "Requirement already satisfied: matplotlib-inline>=0.1 in c:\\users\\hp\\appdata\\local\\packages\\pythonsoftwarefoundation.python.3.11_qbz5n2kfra8p0\\localcache\\local-packages\\python311\\site-packages (from ipykernel->jupyter) (0.1.7)\n",
      "Requirement already satisfied: nest-asyncio in c:\\users\\hp\\appdata\\local\\packages\\pythonsoftwarefoundation.python.3.11_qbz5n2kfra8p0\\localcache\\local-packages\\python311\\site-packages (from ipykernel->jupyter) (1.6.0)\n",
      "Requirement already satisfied: psutil in c:\\users\\hp\\appdata\\local\\packages\\pythonsoftwarefoundation.python.3.11_qbz5n2kfra8p0\\localcache\\local-packages\\python311\\site-packages (from ipykernel->jupyter) (7.0.0)\n",
      "Requirement already satisfied: babel>=2.10 in c:\\users\\hp\\appdata\\local\\packages\\pythonsoftwarefoundation.python.3.11_qbz5n2kfra8p0\\localcache\\local-packages\\python311\\site-packages (from jupyterlab-server<3,>=2.27.1->notebook) (2.17.0)\n",
      "Requirement already satisfied: json5>=0.9.0 in c:\\users\\hp\\appdata\\local\\packages\\pythonsoftwarefoundation.python.3.11_qbz5n2kfra8p0\\localcache\\local-packages\\python311\\site-packages (from jupyterlab-server<3,>=2.27.1->notebook) (0.12.0)\n",
      "Requirement already satisfied: jsonschema>=4.18.0 in c:\\users\\hp\\appdata\\local\\packages\\pythonsoftwarefoundation.python.3.11_qbz5n2kfra8p0\\localcache\\local-packages\\python311\\site-packages (from jupyterlab-server<3,>=2.27.1->notebook) (4.23.0)\n",
      "Requirement already satisfied: requests>=2.31 in c:\\users\\hp\\appdata\\local\\packages\\pythonsoftwarefoundation.python.3.11_qbz5n2kfra8p0\\localcache\\local-packages\\python311\\site-packages (from jupyterlab-server<3,>=2.27.1->notebook) (2.32.3)\n",
      "Requirement already satisfied: beautifulsoup4 in c:\\users\\hp\\appdata\\local\\packages\\pythonsoftwarefoundation.python.3.11_qbz5n2kfra8p0\\localcache\\local-packages\\python311\\site-packages (from nbconvert->jupyter) (4.13.4)\n",
      "Requirement already satisfied: bleach!=5.0.0 in c:\\users\\hp\\appdata\\local\\packages\\pythonsoftwarefoundation.python.3.11_qbz5n2kfra8p0\\localcache\\local-packages\\python311\\site-packages (from bleach[css]!=5.0.0->nbconvert->jupyter) (6.2.0)\n",
      "Requirement already satisfied: defusedxml in c:\\users\\hp\\appdata\\local\\packages\\pythonsoftwarefoundation.python.3.11_qbz5n2kfra8p0\\localcache\\local-packages\\python311\\site-packages (from nbconvert->jupyter) (0.7.1)\n",
      "Requirement already satisfied: jupyterlab-pygments in c:\\users\\hp\\appdata\\local\\packages\\pythonsoftwarefoundation.python.3.11_qbz5n2kfra8p0\\localcache\\local-packages\\python311\\site-packages (from nbconvert->jupyter) (0.3.0)\n",
      "Requirement already satisfied: markupsafe>=2.0 in c:\\users\\hp\\appdata\\local\\packages\\pythonsoftwarefoundation.python.3.11_qbz5n2kfra8p0\\localcache\\local-packages\\python311\\site-packages (from nbconvert->jupyter) (3.0.2)\n",
      "Requirement already satisfied: mistune<4,>=2.0.3 in c:\\users\\hp\\appdata\\local\\packages\\pythonsoftwarefoundation.python.3.11_qbz5n2kfra8p0\\localcache\\local-packages\\python311\\site-packages (from nbconvert->jupyter) (3.1.3)\n",
      "Requirement already satisfied: nbclient>=0.5.0 in c:\\users\\hp\\appdata\\local\\packages\\pythonsoftwarefoundation.python.3.11_qbz5n2kfra8p0\\localcache\\local-packages\\python311\\site-packages (from nbconvert->jupyter) (0.10.2)\n",
      "Requirement already satisfied: pandocfilters>=1.4.1 in c:\\users\\hp\\appdata\\local\\packages\\pythonsoftwarefoundation.python.3.11_qbz5n2kfra8p0\\localcache\\local-packages\\python311\\site-packages (from nbconvert->jupyter) (1.5.1)\n",
      "Requirement already satisfied: pygments>=2.4.1 in c:\\users\\hp\\appdata\\local\\packages\\pythonsoftwarefoundation.python.3.11_qbz5n2kfra8p0\\localcache\\local-packages\\python311\\site-packages (from nbconvert->jupyter) (2.19.1)\n",
      "Requirement already satisfied: widgetsnbextension~=4.0.14 in c:\\users\\hp\\appdata\\local\\packages\\pythonsoftwarefoundation.python.3.11_qbz5n2kfra8p0\\localcache\\local-packages\\python311\\site-packages (from ipywidgets->jupyter) (4.0.14)\n",
      "Requirement already satisfied: jupyterlab_widgets~=3.0.14 in c:\\users\\hp\\appdata\\local\\packages\\pythonsoftwarefoundation.python.3.11_qbz5n2kfra8p0\\localcache\\local-packages\\python311\\site-packages (from ipywidgets->jupyter) (3.0.14)\n",
      "Requirement already satisfied: prompt-toolkit>=3.0.30 in c:\\users\\hp\\appdata\\local\\packages\\pythonsoftwarefoundation.python.3.11_qbz5n2kfra8p0\\localcache\\local-packages\\python311\\site-packages (from jupyter-console->jupyter) (3.0.51)\n",
      "Requirement already satisfied: idna>=2.8 in c:\\users\\hp\\appdata\\local\\packages\\pythonsoftwarefoundation.python.3.11_qbz5n2kfra8p0\\localcache\\local-packages\\python311\\site-packages (from anyio>=3.1.0->jupyter-server<3,>=2.4.0->notebook) (3.10)\n",
      "Requirement already satisfied: sniffio>=1.1 in c:\\users\\hp\\appdata\\local\\packages\\pythonsoftwarefoundation.python.3.11_qbz5n2kfra8p0\\localcache\\local-packages\\python311\\site-packages (from anyio>=3.1.0->jupyter-server<3,>=2.4.0->notebook) (1.3.1)\n",
      "Requirement already satisfied: typing_extensions>=4.5 in c:\\users\\hp\\appdata\\local\\packages\\pythonsoftwarefoundation.python.3.11_qbz5n2kfra8p0\\localcache\\local-packages\\python311\\site-packages (from anyio>=3.1.0->jupyter-server<3,>=2.4.0->notebook) (4.13.2)\n",
      "Requirement already satisfied: argon2-cffi-bindings in c:\\users\\hp\\appdata\\local\\packages\\pythonsoftwarefoundation.python.3.11_qbz5n2kfra8p0\\localcache\\local-packages\\python311\\site-packages (from argon2-cffi>=21.1->jupyter-server<3,>=2.4.0->notebook) (21.2.0)\n",
      "Requirement already satisfied: webencodings in c:\\users\\hp\\appdata\\local\\packages\\pythonsoftwarefoundation.python.3.11_qbz5n2kfra8p0\\localcache\\local-packages\\python311\\site-packages (from bleach!=5.0.0->bleach[css]!=5.0.0->nbconvert->jupyter) (0.5.1)\n",
      "Requirement already satisfied: tinycss2<1.5,>=1.1.0 in c:\\users\\hp\\appdata\\local\\packages\\pythonsoftwarefoundation.python.3.11_qbz5n2kfra8p0\\localcache\\local-packages\\python311\\site-packages (from bleach[css]!=5.0.0->nbconvert->jupyter) (1.4.0)\n",
      "Requirement already satisfied: certifi in c:\\users\\hp\\appdata\\local\\packages\\pythonsoftwarefoundation.python.3.11_qbz5n2kfra8p0\\localcache\\local-packages\\python311\\site-packages (from httpx>=0.25.0->jupyterlab<4.5,>=4.4.0rc0->notebook) (2025.1.31)\n",
      "Requirement already satisfied: httpcore==1.* in c:\\users\\hp\\appdata\\local\\packages\\pythonsoftwarefoundation.python.3.11_qbz5n2kfra8p0\\localcache\\local-packages\\python311\\site-packages (from httpx>=0.25.0->jupyterlab<4.5,>=4.4.0rc0->notebook) (1.0.8)\n",
      "Requirement already satisfied: h11<0.15,>=0.13 in c:\\users\\hp\\appdata\\local\\packages\\pythonsoftwarefoundation.python.3.11_qbz5n2kfra8p0\\localcache\\local-packages\\python311\\site-packages (from httpcore==1.*->httpx>=0.25.0->jupyterlab<4.5,>=4.4.0rc0->notebook) (0.14.0)\n",
      "Requirement already satisfied: colorama in c:\\users\\hp\\appdata\\local\\packages\\pythonsoftwarefoundation.python.3.11_qbz5n2kfra8p0\\localcache\\local-packages\\python311\\site-packages (from ipython>=7.23.1->ipykernel->jupyter) (0.4.6)\n",
      "Requirement already satisfied: decorator in c:\\users\\hp\\appdata\\local\\packages\\pythonsoftwarefoundation.python.3.11_qbz5n2kfra8p0\\localcache\\local-packages\\python311\\site-packages (from ipython>=7.23.1->ipykernel->jupyter) (5.2.1)\n",
      "Requirement already satisfied: ipython-pygments-lexers in c:\\users\\hp\\appdata\\local\\packages\\pythonsoftwarefoundation.python.3.11_qbz5n2kfra8p0\\localcache\\local-packages\\python311\\site-packages (from ipython>=7.23.1->ipykernel->jupyter) (1.1.1)\n",
      "Requirement already satisfied: jedi>=0.16 in c:\\users\\hp\\appdata\\local\\packages\\pythonsoftwarefoundation.python.3.11_qbz5n2kfra8p0\\localcache\\local-packages\\python311\\site-packages (from ipython>=7.23.1->ipykernel->jupyter) (0.19.2)\n",
      "Requirement already satisfied: stack_data in c:\\users\\hp\\appdata\\local\\packages\\pythonsoftwarefoundation.python.3.11_qbz5n2kfra8p0\\localcache\\local-packages\\python311\\site-packages (from ipython>=7.23.1->ipykernel->jupyter) (0.6.3)\n",
      "Requirement already satisfied: attrs>=22.2.0 in c:\\users\\hp\\appdata\\local\\packages\\pythonsoftwarefoundation.python.3.11_qbz5n2kfra8p0\\localcache\\local-packages\\python311\\site-packages (from jsonschema>=4.18.0->jupyterlab-server<3,>=2.27.1->notebook) (25.3.0)\n",
      "Requirement already satisfied: jsonschema-specifications>=2023.03.6 in c:\\users\\hp\\appdata\\local\\packages\\pythonsoftwarefoundation.python.3.11_qbz5n2kfra8p0\\localcache\\local-packages\\python311\\site-packages (from jsonschema>=4.18.0->jupyterlab-server<3,>=2.27.1->notebook) (2024.10.1)\n",
      "Requirement already satisfied: referencing>=0.28.4 in c:\\users\\hp\\appdata\\local\\packages\\pythonsoftwarefoundation.python.3.11_qbz5n2kfra8p0\\localcache\\local-packages\\python311\\site-packages (from jsonschema>=4.18.0->jupyterlab-server<3,>=2.27.1->notebook) (0.36.2)\n",
      "Requirement already satisfied: rpds-py>=0.7.1 in c:\\users\\hp\\appdata\\local\\packages\\pythonsoftwarefoundation.python.3.11_qbz5n2kfra8p0\\localcache\\local-packages\\python311\\site-packages (from jsonschema>=4.18.0->jupyterlab-server<3,>=2.27.1->notebook) (0.24.0)\n",
      "Requirement already satisfied: python-dateutil>=2.8.2 in c:\\users\\hp\\appdata\\local\\packages\\pythonsoftwarefoundation.python.3.11_qbz5n2kfra8p0\\localcache\\local-packages\\python311\\site-packages (from jupyter-client>=7.4.4->jupyter-server<3,>=2.4.0->notebook) (2.9.0.post0)\n",
      "Requirement already satisfied: platformdirs>=2.5 in c:\\users\\hp\\appdata\\local\\packages\\pythonsoftwarefoundation.python.3.11_qbz5n2kfra8p0\\localcache\\local-packages\\python311\\site-packages (from jupyter-core!=5.0.*,>=4.12->jupyter-server<3,>=2.4.0->notebook) (4.3.7)\n",
      "Requirement already satisfied: pywin32>=300 in c:\\users\\hp\\appdata\\local\\packages\\pythonsoftwarefoundation.python.3.11_qbz5n2kfra8p0\\localcache\\local-packages\\python311\\site-packages (from jupyter-core!=5.0.*,>=4.12->jupyter-server<3,>=2.4.0->notebook) (310)\n",
      "Requirement already satisfied: python-json-logger>=2.0.4 in c:\\users\\hp\\appdata\\local\\packages\\pythonsoftwarefoundation.python.3.11_qbz5n2kfra8p0\\localcache\\local-packages\\python311\\site-packages (from jupyter-events>=0.11.0->jupyter-server<3,>=2.4.0->notebook) (3.3.0)\n",
      "Requirement already satisfied: pyyaml>=5.3 in c:\\users\\hp\\appdata\\local\\packages\\pythonsoftwarefoundation.python.3.11_qbz5n2kfra8p0\\localcache\\local-packages\\python311\\site-packages (from jupyter-events>=0.11.0->jupyter-server<3,>=2.4.0->notebook) (6.0.2)\n",
      "Requirement already satisfied: rfc3339-validator in c:\\users\\hp\\appdata\\local\\packages\\pythonsoftwarefoundation.python.3.11_qbz5n2kfra8p0\\localcache\\local-packages\\python311\\site-packages (from jupyter-events>=0.11.0->jupyter-server<3,>=2.4.0->notebook) (0.1.4)\n",
      "Requirement already satisfied: rfc3986-validator>=0.1.1 in c:\\users\\hp\\appdata\\local\\packages\\pythonsoftwarefoundation.python.3.11_qbz5n2kfra8p0\\localcache\\local-packages\\python311\\site-packages (from jupyter-events>=0.11.0->jupyter-server<3,>=2.4.0->notebook) (0.1.1)\n",
      "Requirement already satisfied: fastjsonschema>=2.15 in c:\\users\\hp\\appdata\\local\\packages\\pythonsoftwarefoundation.python.3.11_qbz5n2kfra8p0\\localcache\\local-packages\\python311\\site-packages (from nbformat>=5.3.0->jupyter-server<3,>=2.4.0->notebook) (2.21.1)\n",
      "Requirement already satisfied: wcwidth in c:\\users\\hp\\appdata\\local\\packages\\pythonsoftwarefoundation.python.3.11_qbz5n2kfra8p0\\localcache\\local-packages\\python311\\site-packages (from prompt-toolkit>=3.0.30->jupyter-console->jupyter) (0.2.13)\n",
      "Requirement already satisfied: charset-normalizer<4,>=2 in c:\\users\\hp\\appdata\\local\\packages\\pythonsoftwarefoundation.python.3.11_qbz5n2kfra8p0\\localcache\\local-packages\\python311\\site-packages (from requests>=2.31->jupyterlab-server<3,>=2.27.1->notebook) (3.4.1)\n",
      "Requirement already satisfied: urllib3<3,>=1.21.1 in c:\\users\\hp\\appdata\\local\\packages\\pythonsoftwarefoundation.python.3.11_qbz5n2kfra8p0\\localcache\\local-packages\\python311\\site-packages (from requests>=2.31->jupyterlab-server<3,>=2.27.1->notebook) (2.4.0)\n",
      "Requirement already satisfied: soupsieve>1.2 in c:\\users\\hp\\appdata\\local\\packages\\pythonsoftwarefoundation.python.3.11_qbz5n2kfra8p0\\localcache\\local-packages\\python311\\site-packages (from beautifulsoup4->nbconvert->jupyter) (2.6)\n",
      "Requirement already satisfied: parso<0.9.0,>=0.8.4 in c:\\users\\hp\\appdata\\local\\packages\\pythonsoftwarefoundation.python.3.11_qbz5n2kfra8p0\\localcache\\local-packages\\python311\\site-packages (from jedi>=0.16->ipython>=7.23.1->ipykernel->jupyter) (0.8.4)\n",
      "Requirement already satisfied: fqdn in c:\\users\\hp\\appdata\\local\\packages\\pythonsoftwarefoundation.python.3.11_qbz5n2kfra8p0\\localcache\\local-packages\\python311\\site-packages (from jsonschema[format-nongpl]>=4.18.0->jupyter-events>=0.11.0->jupyter-server<3,>=2.4.0->notebook) (1.5.1)\n",
      "Requirement already satisfied: isoduration in c:\\users\\hp\\appdata\\local\\packages\\pythonsoftwarefoundation.python.3.11_qbz5n2kfra8p0\\localcache\\local-packages\\python311\\site-packages (from jsonschema[format-nongpl]>=4.18.0->jupyter-events>=0.11.0->jupyter-server<3,>=2.4.0->notebook) (20.11.0)\n",
      "Requirement already satisfied: jsonpointer>1.13 in c:\\users\\hp\\appdata\\local\\packages\\pythonsoftwarefoundation.python.3.11_qbz5n2kfra8p0\\localcache\\local-packages\\python311\\site-packages (from jsonschema[format-nongpl]>=4.18.0->jupyter-events>=0.11.0->jupyter-server<3,>=2.4.0->notebook) (3.0.0)\n",
      "Requirement already satisfied: uri-template in c:\\users\\hp\\appdata\\local\\packages\\pythonsoftwarefoundation.python.3.11_qbz5n2kfra8p0\\localcache\\local-packages\\python311\\site-packages (from jsonschema[format-nongpl]>=4.18.0->jupyter-events>=0.11.0->jupyter-server<3,>=2.4.0->notebook) (1.3.0)\n",
      "Requirement already satisfied: webcolors>=24.6.0 in c:\\users\\hp\\appdata\\local\\packages\\pythonsoftwarefoundation.python.3.11_qbz5n2kfra8p0\\localcache\\local-packages\\python311\\site-packages (from jsonschema[format-nongpl]>=4.18.0->jupyter-events>=0.11.0->jupyter-server<3,>=2.4.0->notebook) (24.11.1)\n",
      "Requirement already satisfied: six>=1.5 in c:\\users\\hp\\appdata\\local\\packages\\pythonsoftwarefoundation.python.3.11_qbz5n2kfra8p0\\localcache\\local-packages\\python311\\site-packages (from python-dateutil>=2.8.2->jupyter-client>=7.4.4->jupyter-server<3,>=2.4.0->notebook) (1.17.0)\n",
      "Requirement already satisfied: cffi>=1.0.1 in c:\\users\\hp\\appdata\\local\\packages\\pythonsoftwarefoundation.python.3.11_qbz5n2kfra8p0\\localcache\\local-packages\\python311\\site-packages (from argon2-cffi-bindings->argon2-cffi>=21.1->jupyter-server<3,>=2.4.0->notebook) (1.17.1)\n",
      "Requirement already satisfied: executing>=1.2.0 in c:\\users\\hp\\appdata\\local\\packages\\pythonsoftwarefoundation.python.3.11_qbz5n2kfra8p0\\localcache\\local-packages\\python311\\site-packages (from stack_data->ipython>=7.23.1->ipykernel->jupyter) (2.2.0)\n",
      "Requirement already satisfied: asttokens>=2.1.0 in c:\\users\\hp\\appdata\\local\\packages\\pythonsoftwarefoundation.python.3.11_qbz5n2kfra8p0\\localcache\\local-packages\\python311\\site-packages (from stack_data->ipython>=7.23.1->ipykernel->jupyter) (3.0.0)\n",
      "Requirement already satisfied: pure-eval in c:\\users\\hp\\appdata\\local\\packages\\pythonsoftwarefoundation.python.3.11_qbz5n2kfra8p0\\localcache\\local-packages\\python311\\site-packages (from stack_data->ipython>=7.23.1->ipykernel->jupyter) (0.2.3)\n",
      "Requirement already satisfied: pycparser in c:\\users\\hp\\appdata\\local\\packages\\pythonsoftwarefoundation.python.3.11_qbz5n2kfra8p0\\localcache\\local-packages\\python311\\site-packages (from cffi>=1.0.1->argon2-cffi-bindings->argon2-cffi>=21.1->jupyter-server<3,>=2.4.0->notebook) (2.22)\n",
      "Requirement already satisfied: arrow>=0.15.0 in c:\\users\\hp\\appdata\\local\\packages\\pythonsoftwarefoundation.python.3.11_qbz5n2kfra8p0\\localcache\\local-packages\\python311\\site-packages (from isoduration->jsonschema[format-nongpl]>=4.18.0->jupyter-events>=0.11.0->jupyter-server<3,>=2.4.0->notebook) (1.3.0)\n",
      "Requirement already satisfied: types-python-dateutil>=2.8.10 in c:\\users\\hp\\appdata\\local\\packages\\pythonsoftwarefoundation.python.3.11_qbz5n2kfra8p0\\localcache\\local-packages\\python311\\site-packages (from arrow>=0.15.0->isoduration->jsonschema[format-nongpl]>=4.18.0->jupyter-events>=0.11.0->jupyter-server<3,>=2.4.0->notebook) (2.9.0.20241206)\n"
     ]
    },
    {
     "name": "stderr",
     "output_type": "stream",
     "text": [
      "\n",
      "[notice] A new release of pip is available: 25.0.1 -> 25.1\n",
      "[notice] To update, run: C:\\Users\\HP\\AppData\\Local\\Microsoft\\WindowsApps\\PythonSoftwareFoundation.Python.3.11_qbz5n2kfra8p0\\python.exe -m pip install --upgrade pip\n"
     ]
    },
    {
     "name": "stdout",
     "output_type": "stream",
     "text": [
      "Requirement already satisfied: pandas in c:\\users\\hp\\appdata\\local\\packages\\pythonsoftwarefoundation.python.3.11_qbz5n2kfra8p0\\localcache\\local-packages\\python311\\site-packages (2.2.3)\n",
      "Requirement already satisfied: numpy>=1.23.2 in c:\\users\\hp\\appdata\\local\\packages\\pythonsoftwarefoundation.python.3.11_qbz5n2kfra8p0\\localcache\\local-packages\\python311\\site-packages (from pandas) (2.1.3)\n",
      "Requirement already satisfied: python-dateutil>=2.8.2 in c:\\users\\hp\\appdata\\local\\packages\\pythonsoftwarefoundation.python.3.11_qbz5n2kfra8p0\\localcache\\local-packages\\python311\\site-packages (from pandas) (2.9.0.post0)\n",
      "Requirement already satisfied: pytz>=2020.1 in c:\\users\\hp\\appdata\\local\\packages\\pythonsoftwarefoundation.python.3.11_qbz5n2kfra8p0\\localcache\\local-packages\\python311\\site-packages (from pandas) (2025.2)\n",
      "Requirement already satisfied: tzdata>=2022.7 in c:\\users\\hp\\appdata\\local\\packages\\pythonsoftwarefoundation.python.3.11_qbz5n2kfra8p0\\localcache\\local-packages\\python311\\site-packages (from pandas) (2025.2)\n",
      "Requirement already satisfied: six>=1.5 in c:\\users\\hp\\appdata\\local\\packages\\pythonsoftwarefoundation.python.3.11_qbz5n2kfra8p0\\localcache\\local-packages\\python311\\site-packages (from python-dateutil>=2.8.2->pandas) (1.17.0)\n"
     ]
    },
    {
     "name": "stderr",
     "output_type": "stream",
     "text": [
      "\n",
      "[notice] A new release of pip is available: 25.0.1 -> 25.1\n",
      "[notice] To update, run: C:\\Users\\HP\\AppData\\Local\\Microsoft\\WindowsApps\\PythonSoftwareFoundation.Python.3.11_qbz5n2kfra8p0\\python.exe -m pip install --upgrade pip\n"
     ]
    },
    {
     "name": "stdout",
     "output_type": "stream",
     "text": [
      "Requirement already satisfied: scikit-learn in c:\\users\\hp\\appdata\\local\\packages\\pythonsoftwarefoundation.python.3.11_qbz5n2kfra8p0\\localcache\\local-packages\\python311\\site-packages (1.6.1)\n",
      "Requirement already satisfied: numpy>=1.19.5 in c:\\users\\hp\\appdata\\local\\packages\\pythonsoftwarefoundation.python.3.11_qbz5n2kfra8p0\\localcache\\local-packages\\python311\\site-packages (from scikit-learn) (2.1.3)\n",
      "Requirement already satisfied: scipy>=1.6.0 in c:\\users\\hp\\appdata\\local\\packages\\pythonsoftwarefoundation.python.3.11_qbz5n2kfra8p0\\localcache\\local-packages\\python311\\site-packages (from scikit-learn) (1.15.2)\n",
      "Requirement already satisfied: joblib>=1.2.0 in c:\\users\\hp\\appdata\\local\\packages\\pythonsoftwarefoundation.python.3.11_qbz5n2kfra8p0\\localcache\\local-packages\\python311\\site-packages (from scikit-learn) (1.4.2)\n",
      "Requirement already satisfied: threadpoolctl>=3.1.0 in c:\\users\\hp\\appdata\\local\\packages\\pythonsoftwarefoundation.python.3.11_qbz5n2kfra8p0\\localcache\\local-packages\\python311\\site-packages (from scikit-learn) (3.6.0)\n"
     ]
    },
    {
     "name": "stderr",
     "output_type": "stream",
     "text": [
      "\n",
      "[notice] A new release of pip is available: 25.0.1 -> 25.1\n",
      "[notice] To update, run: C:\\Users\\HP\\AppData\\Local\\Microsoft\\WindowsApps\\PythonSoftwareFoundation.Python.3.11_qbz5n2kfra8p0\\python.exe -m pip install --upgrade pip\n",
      "ERROR: Could not find a version that satisfies the requirement gc (from versions: none)\n",
      "\n",
      "[notice] A new release of pip is available: 25.0.1 -> 25.1\n",
      "[notice] To update, run: C:\\Users\\HP\\AppData\\Local\\Microsoft\\WindowsApps\\PythonSoftwareFoundation.Python.3.11_qbz5n2kfra8p0\\python.exe -m pip install --upgrade pip\n",
      "ERROR: No matching distribution found for gc\n",
      "ERROR: Ignored the following yanked versions: 20081119\n",
      "ERROR: Could not find a version that satisfies the requirement hashlib (from versions: none)\n",
      "\n",
      "[notice] A new release of pip is available: 25.0.1 -> 25.1\n",
      "[notice] To update, run: C:\\Users\\HP\\AppData\\Local\\Microsoft\\WindowsApps\\PythonSoftwareFoundation.Python.3.11_qbz5n2kfra8p0\\python.exe -m pip install --upgrade pip\n",
      "ERROR: No matching distribution found for hashlib\n"
     ]
    }
   ],
   "source": [
    "# Install necessary libraries\n",
    "! pip install notebook jupyter\n",
    "! pip install pandas\n",
    "! pip install scikit-learn\n",
    "! pip install gc\n",
    "! pip install hashlib"
   ]
  },
  {
   "cell_type": "code",
   "execution_count": 1,
   "id": "cebe65b1",
   "metadata": {},
   "outputs": [
    {
     "name": "stdout",
     "output_type": "stream",
     "text": [
      "Requirement already satisfied: matplotlib in c:\\users\\hp\\appdata\\local\\packages\\pythonsoftwarefoundation.python.3.11_qbz5n2kfra8p0\\localcache\\local-packages\\python311\\site-packages (3.10.1)\n",
      "Requirement already satisfied: contourpy>=1.0.1 in c:\\users\\hp\\appdata\\local\\packages\\pythonsoftwarefoundation.python.3.11_qbz5n2kfra8p0\\localcache\\local-packages\\python311\\site-packages (from matplotlib) (1.3.2)\n",
      "Requirement already satisfied: cycler>=0.10 in c:\\users\\hp\\appdata\\local\\packages\\pythonsoftwarefoundation.python.3.11_qbz5n2kfra8p0\\localcache\\local-packages\\python311\\site-packages (from matplotlib) (0.12.1)\n",
      "Requirement already satisfied: fonttools>=4.22.0 in c:\\users\\hp\\appdata\\local\\packages\\pythonsoftwarefoundation.python.3.11_qbz5n2kfra8p0\\localcache\\local-packages\\python311\\site-packages (from matplotlib) (4.57.0)\n",
      "Requirement already satisfied: kiwisolver>=1.3.1 in c:\\users\\hp\\appdata\\local\\packages\\pythonsoftwarefoundation.python.3.11_qbz5n2kfra8p0\\localcache\\local-packages\\python311\\site-packages (from matplotlib) (1.4.8)\n",
      "Requirement already satisfied: numpy>=1.23 in c:\\users\\hp\\appdata\\local\\packages\\pythonsoftwarefoundation.python.3.11_qbz5n2kfra8p0\\localcache\\local-packages\\python311\\site-packages (from matplotlib) (2.1.3)\n",
      "Requirement already satisfied: packaging>=20.0 in c:\\users\\hp\\appdata\\local\\packages\\pythonsoftwarefoundation.python.3.11_qbz5n2kfra8p0\\localcache\\local-packages\\python311\\site-packages (from matplotlib) (24.2)\n",
      "Requirement already satisfied: pillow>=8 in c:\\users\\hp\\appdata\\local\\packages\\pythonsoftwarefoundation.python.3.11_qbz5n2kfra8p0\\localcache\\local-packages\\python311\\site-packages (from matplotlib) (11.2.1)\n",
      "Requirement already satisfied: pyparsing>=2.3.1 in c:\\users\\hp\\appdata\\local\\packages\\pythonsoftwarefoundation.python.3.11_qbz5n2kfra8p0\\localcache\\local-packages\\python311\\site-packages (from matplotlib) (3.2.3)\n",
      "Requirement already satisfied: python-dateutil>=2.7 in c:\\users\\hp\\appdata\\local\\packages\\pythonsoftwarefoundation.python.3.11_qbz5n2kfra8p0\\localcache\\local-packages\\python311\\site-packages (from matplotlib) (2.9.0.post0)\n",
      "Requirement already satisfied: six>=1.5 in c:\\users\\hp\\appdata\\local\\packages\\pythonsoftwarefoundation.python.3.11_qbz5n2kfra8p0\\localcache\\local-packages\\python311\\site-packages (from python-dateutil>=2.7->matplotlib) (1.17.0)\n"
     ]
    },
    {
     "name": "stderr",
     "output_type": "stream",
     "text": [
      "\n",
      "[notice] A new release of pip is available: 25.0.1 -> 25.1\n",
      "[notice] To update, run: C:\\Users\\HP\\AppData\\Local\\Microsoft\\WindowsApps\\PythonSoftwareFoundation.Python.3.11_qbz5n2kfra8p0\\python.exe -m pip install --upgrade pip\n"
     ]
    }
   ],
   "source": [
    "! pip install matplotlib"
   ]
  },
  {
   "cell_type": "markdown",
   "id": "83586764",
   "metadata": {},
   "source": [
    "Import libraries"
   ]
  },
  {
   "cell_type": "code",
   "execution_count": 2,
   "id": "296ec662",
   "metadata": {},
   "outputs": [],
   "source": [
    "# Import pandas for data manipulation\n",
    "import pandas as pd\n",
    "# Import numpy for numerical operations\n",
    "import numpy as np\n",
    "# Import resample for data resampling techniques\n",
    "from sklearn.utils import resample\n",
    "# Import preprocessing tools from scikit-learn\n",
    "from sklearn import preprocessing\n",
    "# Import garbage collector for memory management\n",
    "import gc\n",
    "# Import hashlib for cryptographic hash functions\n",
    "import hashlib\n",
    "# Import time module for measuring execution time\n",
    "import time\n",
    "\n",
    "# Libraries for deep learning models\n",
    "from tensorflow.keras.models import Sequential\n",
    "from tensorflow.keras.layers import GRU, LSTM, Dense, Dropout\n",
    "from tensorflow.keras.optimizers import Adam\n",
    "\n",
    "# Traditional machine learning libraries\n",
    "from sklearn.svm import SVC\n",
    "from sklearn.linear_model import LogisticRegression\n",
    "from sklearn.neighbors import KNeighborsClassifier\n",
    "from sklearn.metrics import accuracy_score, precision_score, recall_score, f1_score\n",
    "\n",
    "# For plotting charts (if needed)\n",
    "import matplotlib.pyplot as plt"
   ]
  },
  {
   "cell_type": "markdown",
   "id": "b582908e",
   "metadata": {},
   "source": [
    "Writing functions that handle file loading and downsampling"
   ]
  },
  {
   "cell_type": "code",
   "execution_count": null,
   "id": "a9a8b534",
   "metadata": {},
   "outputs": [],
   "source": [
    "mult = 5\n",
    "\n",
    "def load_file(path):\n",
    "    # Load data from CSV file\n",
    "    data = pd.read_csv(path, sep=',', low_memory=False)\n",
    "    data.columns = data.columns.str.strip()  # Remove whitespace from column names\n",
    "    \n",
    "    # Separate normal and attack flows\n",
    "    is_benign = data['Label'] == 'BENIGN'\n",
    "    flows_ok = data[is_benign]\n",
    "    flows_ddos_full = data[~is_benign]\n",
    "    \n",
    "    sizeDownSample = len(flows_ok) * mult  # Size of the final set of anomalous data\n",
    "    \n",
    "    # Downsample majority class\n",
    "    if len(flows_ok) * mult < len(flows_ddos_full):\n",
    "        flows_ddos_reduced = resample(flows_ddos_full,\n",
    "                                      replace=False,  # Sample without replacement\n",
    "                                      n_samples=sizeDownSample,  # Match minority n\n",
    "                                      random_state=27)  # Reproducible results\n",
    "    else:\n",
    "        flows_ddos_reduced = flows_ddos_full\n",
    "    \n",
    "    return flows_ok, flows_ddos_reduced\n",
    "\n",
    "def load_huge_file(path):\n",
    "    # Add low_memory=False to avoid DtypeWarning\n",
    "    df_chunk = pd.read_csv(path, chunksize=500000, low_memory=False)\n",
    "    \n",
    "    chunk_list_ok = []  # Append each chunk df here\n",
    "    chunk_list_ddos = []\n",
    "    \n",
    "    # Each chunk is in df format\n",
    "    for chunk in df_chunk:\n",
    "        chunk.columns = chunk.columns.str.strip()  # Remove whitespace from column names\n",
    "        \n",
    "        is_benign = chunk['Label'] == 'BENIGN'\n",
    "        flows_ok = chunk[is_benign]\n",
    "        flows_ddos_full = chunk[~is_benign]\n",
    "        \n",
    "        sizeDownSample = len(flows_ok) * mult  # Size of the final set of anomalous data\n",
    "        \n",
    "        if len(flows_ok) * mult < len(flows_ddos_full):\n",
    "            # Downsample majority class\n",
    "            flows_ddos_reduced = resample(flows_ddos_full,\n",
    "                                          replace=False,  # Sample without replacement\n",
    "                                          n_samples=sizeDownSample,  # Match minority n\n",
    "                                          random_state=27)  # Reproducible results\n",
    "        else:\n",
    "            flows_ddos_reduced = flows_ddos_full\n",
    "        \n",
    "        # Once the data filtering is done, append the chunk to list\n",
    "        chunk_list_ok.append(flows_ok)\n",
    "        chunk_list_ddos.append(flows_ddos_reduced)\n",
    "        \n",
    "        # Clean memory after each chunk\n",
    "        del chunk, flows_ok, flows_ddos_full, flows_ddos_reduced\n",
    "        gc.collect()\n",
    "    \n",
    "    # Concatenate the list into dataframe\n",
    "    flows_ok = pd.concat(chunk_list_ok, ignore_index=True)\n",
    "    flows_ddos = pd.concat(chunk_list_ddos, ignore_index=True)\n",
    "    \n",
    "    # Clean memory after concatenation\n",
    "    del chunk_list_ok, chunk_list_ddos\n",
    "    gc.collect()\n",
    "    \n",
    "    return flows_ok, flows_ddos"
   ]
  },
  {
   "cell_type": "markdown",
   "id": "84c0aece",
   "metadata": {},
   "source": [
    "Loading CIC-DDoS2019 - Day 1 (training)"
   ]
  },
  {
   "cell_type": "code",
   "execution_count": null,
   "id": "a577221a",
   "metadata": {},
   "outputs": [
    {
     "name": "stdout",
     "output_type": "stream",
     "text": [
      "File 1 loaded\n"
     ]
    }
   ],
   "source": [
    "# File 1\n",
    "flows_ok, flows_ddos = load_huge_file(r\"D:\\Nam3\\HK2\\ATBM\\DDOS\\Dataset\\CSV-01-12\\01-12\\DrDoS_DNS.csv\")\n",
    "print('File 1 loaded')"
   ]
  },
  {
   "cell_type": "code",
   "execution_count": null,
   "id": "26b2d659",
   "metadata": {},
   "outputs": [
    {
     "name": "stdout",
     "output_type": "stream",
     "text": [
      "File 2 loaded\n"
     ]
    }
   ],
   "source": [
    "# File 2\n",
    "a, b = load_file(r'D:\\Nam3\\HK2\\ATBM\\DDOS\\Dataset\\CSV-01-12\\01-12\\DrDoS_LDAP.csv')\n",
    "flows_ok = pd.concat([flows_ok, a], ignore_index=True)\n",
    "flows_ddos = pd.concat([flows_ddos, b], ignore_index=True)\n",
    "print('File 2 loaded')"
   ]
  },
  {
   "cell_type": "code",
   "execution_count": null,
   "id": "b547e81a",
   "metadata": {},
   "outputs": [
    {
     "name": "stdout",
     "output_type": "stream",
     "text": [
      "File 3 loaded\n"
     ]
    }
   ],
   "source": [
    "# File 3\n",
    "a, b = load_file(r'D:\\Nam3\\HK2\\ATBM\\DDOS\\Dataset\\CSV-01-12\\01-12\\DrDoS_MSSQL.csv')\n",
    "flows_ok = pd.concat([flows_ok, a], ignore_index=True)\n",
    "flows_ddos = pd.concat([flows_ddos, b], ignore_index=True)\n",
    "print('File 3 loaded')"
   ]
  },
  {
   "cell_type": "code",
   "execution_count": null,
   "id": "2b30c390",
   "metadata": {},
   "outputs": [
    {
     "name": "stdout",
     "output_type": "stream",
     "text": [
      "File 4 loaded\n"
     ]
    }
   ],
   "source": [
    "# File 4\n",
    "a, b = load_file(r'D:\\Nam3\\HK2\\ATBM\\DDOS\\Dataset\\CSV-01-12\\01-12\\DrDoS_NetBIOS.csv')\n",
    "flows_ok = pd.concat([flows_ok, a], ignore_index=True)\n",
    "flows_ddos = pd.concat([flows_ddos, b], ignore_index=True)\n",
    "print('File 4 loaded')"
   ]
  },
  {
   "cell_type": "code",
   "execution_count": null,
   "id": "6d3e7741",
   "metadata": {},
   "outputs": [
    {
     "name": "stdout",
     "output_type": "stream",
     "text": [
      "File 5 loaded\n"
     ]
    }
   ],
   "source": [
    "# File 5\n",
    "a, b = load_file(r'D:\\Nam3\\HK2\\ATBM\\DDOS\\Dataset\\CSV-01-12\\01-12\\DrDoS_NTP.csv')\n",
    "flows_ok = pd.concat([flows_ok, a], ignore_index=True)\n",
    "flows_ddos = pd.concat([flows_ddos, b], ignore_index=True)\n",
    "print('File 5 loaded')"
   ]
  },
  {
   "cell_type": "code",
   "execution_count": null,
   "id": "e66fed54",
   "metadata": {},
   "outputs": [],
   "source": [
    "# File 6\n",
    "a, b = load_file(r'D:\\Nam3\\HK2\\ATBM\\DDOS\\Dataset\\CSV-01-12\\01-12\\DrDoS_SNMP.csv')\n",
    "flows_ok = pd.concat([flows_ok, a], ignore_index=True)\n",
    "flows_ddos = pd.concat([flows_ddos, b], ignore_index=True)\n",
    "print('File 6 loaded')"
   ]
  },
  {
   "cell_type": "code",
   "execution_count": null,
   "id": "b174f6a4",
   "metadata": {},
   "outputs": [
    {
     "name": "stdout",
     "output_type": "stream",
     "text": [
      "File 7 loaded\n"
     ]
    }
   ],
   "source": [
    "# File 7\n",
    "a, b = load_file(r'D:\\Nam3\\HK2\\ATBM\\DDOS\\Dataset\\CSV-01-12\\01-12\\DrDoS_SSDP.csv')\n",
    "flows_ok = pd.concat([flows_ok, a], ignore_index=True)\n",
    "flows_ddos = pd.concat([flows_ddos, b], ignore_index=True)\n",
    "print('File 7 loaded')"
   ]
  },
  {
   "cell_type": "code",
   "execution_count": null,
   "id": "01ed2225",
   "metadata": {},
   "outputs": [
    {
     "name": "stdout",
     "output_type": "stream",
     "text": [
      "File 8 loaded\n"
     ]
    }
   ],
   "source": [
    "# File 8\n",
    "a, b = load_file(r'D:\\Nam3\\HK2\\ATBM\\DDOS\\Dataset\\CSV-01-12\\01-12\\DrDoS_UDP.csv')\n",
    "flows_ok = pd.concat([flows_ok, a], ignore_index=True)\n",
    "flows_ddos = pd.concat([flows_ddos, b], ignore_index=True)\n",
    "print('File 8 loaded')"
   ]
  },
  {
   "cell_type": "code",
   "execution_count": null,
   "id": "1a67090d",
   "metadata": {},
   "outputs": [
    {
     "name": "stdout",
     "output_type": "stream",
     "text": [
      "File 9 loaded\n"
     ]
    }
   ],
   "source": [
    "# File 9\n",
    "a, b = load_file(r'D:\\Nam3\\HK2\\ATBM\\DDOS\\Dataset\\CSV-01-12\\01-12\\Syn.csv')\n",
    "flows_ok = pd.concat([flows_ok, a], ignore_index=True)\n",
    "flows_ddos = pd.concat([flows_ddos, b], ignore_index=True)\n",
    "print('File 9 loaded')"
   ]
  },
  {
   "cell_type": "code",
   "execution_count": null,
   "id": "c11c3b86",
   "metadata": {},
   "outputs": [
    {
     "name": "stdout",
     "output_type": "stream",
     "text": [
      "File 10 loaded\n"
     ]
    }
   ],
   "source": [
    "# File 10\n",
    "a, b = load_huge_file(r'D:\\Nam3\\HK2\\ATBM\\DDOS\\Dataset\\CSV-01-12\\01-12\\TFTP.csv')\n",
    "flows_ok = pd.concat([flows_ok, a], ignore_index=True)\n",
    "flows_ddos = pd.concat([flows_ddos, b], ignore_index=True)\n",
    "print('File 10 loaded')"
   ]
  },
  {
   "cell_type": "code",
   "execution_count": null,
   "id": "5298bc2d",
   "metadata": {},
   "outputs": [
    {
     "name": "stdout",
     "output_type": "stream",
     "text": [
      "File 11 loaded\n"
     ]
    }
   ],
   "source": [
    "# File 11\n",
    "a, b = load_file(r'D:\\Nam3\\HK2\\ATBM\\DDOS\\Dataset\\CSV-01-12\\01-12\\UDPLag.csv')\n",
    "flows_ok = pd.concat([flows_ok, a], ignore_index=True)\n",
    "flows_ddos = pd.concat([flows_ddos, b], ignore_index=True)\n",
    "print('File 11 loaded')"
   ]
  },
  {
   "cell_type": "code",
   "execution_count": null,
   "id": "d5e15f04",
   "metadata": {},
   "outputs": [],
   "source": [
    "# Combine and save results\n",
    "samples = pd.concat([flows_ok, flows_ddos], ignore_index=True)\n",
    "samples.to_csv(r'D:\\Nam3\\HK2\\ATBM\\DDOS\\Dataset\\export_dataframe.csv', index=None, header=True)\n",
    "# Clean up memory\n",
    "del flows_ddos, flows_ok, a, b"
   ]
  },
  {
   "cell_type": "markdown",
   "id": "bc3bb0e5",
   "metadata": {},
   "source": [
    "Loading CIC-DDoS2019 - Day 2 (testing)"
   ]
  },
  {
   "cell_type": "code",
   "execution_count": null,
   "id": "7a9c9a7b",
   "metadata": {},
   "outputs": [
    {
     "name": "stdout",
     "output_type": "stream",
     "text": [
      "file 1 loaded\n"
     ]
    }
   ],
   "source": [
    "# file 1\n",
    "flows_ok, flows_ddos = load_file(r'D:\\Nam3\\HK2\\ATBM\\DDOS\\Dataset\\CSV-03-11\\03-11\\LDAP.csv')\n",
    "print('file 1 loaded')"
   ]
  },
  {
   "cell_type": "code",
   "execution_count": null,
   "id": "8b2d8800",
   "metadata": {},
   "outputs": [
    {
     "name": "stdout",
     "output_type": "stream",
     "text": [
      "File 2 loaded\n"
     ]
    }
   ],
   "source": [
    "# File 2\n",
    "a, b = load_file(r'D:\\Nam3\\HK2\\ATBM\\DDOS\\Dataset\\CSV-03-11\\03-11\\MSSQL.csv')\n",
    "flows_ok = pd.concat([flows_ok, a], ignore_index=True)\n",
    "flows_ddos = pd.concat([flows_ddos, b], ignore_index=True)\n",
    "print('File 2 loaded')"
   ]
  },
  {
   "cell_type": "code",
   "execution_count": null,
   "id": "f4a5d29b",
   "metadata": {},
   "outputs": [
    {
     "name": "stdout",
     "output_type": "stream",
     "text": [
      "File 3 loaded\n"
     ]
    }
   ],
   "source": [
    "# File 3\n",
    "a, b = load_file(r'D:\\Nam3\\HK2\\ATBM\\DDOS\\Dataset\\CSV-03-11\\03-11\\NetBIOS.csv')\n",
    "flows_ok = pd.concat([flows_ok, a], ignore_index=True)\n",
    "flows_ddos = pd.concat([flows_ddos, b], ignore_index=True)\n",
    "print('File 3 loaded')"
   ]
  },
  {
   "cell_type": "code",
   "execution_count": null,
   "id": "0624a5d4",
   "metadata": {},
   "outputs": [
    {
     "name": "stdout",
     "output_type": "stream",
     "text": [
      "File 4 loaded\n"
     ]
    }
   ],
   "source": [
    "# File 4\n",
    "a, b = load_file(r'D:\\Nam3\\HK2\\ATBM\\DDOS\\Dataset\\CSV-03-11\\03-11\\Portmap.csv')\n",
    "flows_ok = pd.concat([flows_ok, a], ignore_index=True)\n",
    "flows_ddos = pd.concat([flows_ddos, b], ignore_index=True)\n",
    "print('File 4 loaded')"
   ]
  },
  {
   "cell_type": "code",
   "execution_count": null,
   "id": "615c8e74",
   "metadata": {},
   "outputs": [
    {
     "name": "stdout",
     "output_type": "stream",
     "text": [
      "File 5 loaded\n"
     ]
    }
   ],
   "source": [
    "# File 5\n",
    "a, b = load_file(r'D:\\Nam3\\HK2\\ATBM\\DDOS\\Dataset\\CSV-03-11\\03-11\\Syn.csv')\n",
    "flows_ok = pd.concat([flows_ok, a], ignore_index=True)\n",
    "flows_ddos = pd.concat([flows_ddos, b], ignore_index=True)\n",
    "print('File 5 loaded')"
   ]
  },
  {
   "cell_type": "code",
   "execution_count": null,
   "id": "baf702f0",
   "metadata": {},
   "outputs": [
    {
     "name": "stdout",
     "output_type": "stream",
     "text": [
      "File 6 loaded\n"
     ]
    }
   ],
   "source": [
    "# File 6\n",
    "a, b = load_file(r'D:\\Nam3\\HK2\\ATBM\\DDOS\\Dataset\\CSV-03-11\\03-11\\UDP.csv')\n",
    "flows_ok = pd.concat([flows_ok, a], ignore_index=True)\n",
    "flows_ddos = pd.concat([flows_ddos, b], ignore_index=True)\n",
    "print('File 6 loaded')"
   ]
  },
  {
   "cell_type": "code",
   "execution_count": null,
   "id": "7b925739",
   "metadata": {},
   "outputs": [
    {
     "name": "stdout",
     "output_type": "stream",
     "text": [
      "File 7 loaded\n"
     ]
    }
   ],
   "source": [
    "# File 7\n",
    "a, b = load_file(r'D:\\Nam3\\HK2\\ATBM\\DDOS\\Dataset\\CSV-03-11\\03-11\\UDPLag.csv')\n",
    "flows_ok = pd.concat([flows_ok, a], ignore_index=True)\n",
    "flows_ddos = pd.concat([flows_ddos, b], ignore_index=True)\n",
    "print('File 7 loaded')"
   ]
  },
  {
   "cell_type": "code",
   "execution_count": null,
   "id": "ae8522a1",
   "metadata": {},
   "outputs": [],
   "source": [
    "tests = pd.concat([flows_ok, flows_ddos], ignore_index=True)\n",
    "tests.to_csv(r'D:\\Nam3\\HK2\\ATBM\\DDOS\\Dataset\\export_tests.csv.csv', index=None, header=True)\n",
    "del flows_ddos, flows_ok, a, b"
   ]
  },
  {
   "cell_type": "markdown",
   "id": "926c12b3",
   "metadata": {},
   "source": [
    "CIC-DDoS2019 Data Processing"
   ]
  },
  {
   "cell_type": "code",
   "execution_count": null,
   "id": "f7cc6647",
   "metadata": {},
   "outputs": [
    {
     "name": "stderr",
     "output_type": "stream",
     "text": [
      "C:\\Users\\HP\\AppData\\Local\\Temp\\ipykernel_19920\\611314941.py:26: FutureWarning: Downcasting behavior in `replace` is deprecated and will be removed in a future version. To retain the old behavior, explicitly call `result.infer_objects(copy=False)`. To opt-in to the future behavior, set `pd.set_option('future.no_silent_downcasting', True)`\n",
      "  samples['Label'] = samples['Label'].replace(attack_labels, 1)\n"
     ]
    }
   ],
   "source": [
    "# Read data from CSV file\n",
    "samples = pd.read_csv(r'D:\\Nam3\\HK2\\ATBM\\DDOS\\Dataset\\export_dataframe.csv', sep=',', low_memory=False)\n",
    "\n",
    "# Function to encode string to numeric using MD5\n",
    "def string2numeric_hash(text):\n",
    "   return int(hashlib.md5(text).hexdigest()[:8], 16)\n",
    "\n",
    "# Replace invalid values\n",
    "samples = samples.replace('Infinity', '0')\n",
    "samples = samples.replace(np.inf, 0)\n",
    "\n",
    "# Process 'Flow Packets/s' column\n",
    "samples['Flow Packets/s'] = pd.to_numeric(samples['Flow Packets/s'])\n",
    "\n",
    "# Process 'Flow Bytes/s' column\n",
    "samples['Flow Bytes/s'] = samples['Flow Bytes/s'].fillna(0)\n",
    "samples['Flow Bytes/s'] = pd.to_numeric(samples['Flow Bytes/s'])\n",
    "\n",
    "# Encode labels: BENIGN = 0, attacks = 1\n",
    "attack_labels = [\n",
    "   'DrDoS_DNS', 'DrDoS_LDAP', 'DrDoS_MSSQL', 'DrDoS_NTP',\n",
    "   'DrDoS_NetBIOS', 'DrDoS_SNMP', 'DrDoS_SSDP', 'DrDoS_UDP',\n",
    "   'Syn', 'TFTP', 'UDP-lag', 'WebDDoS'\n",
    "]\n",
    "samples['Label'] = samples['Label'].replace('BENIGN', 0)\n",
    "samples['Label'] = samples['Label'].replace(attack_labels, 1)\n",
    "samples['Label'] = samples['Label'].astype(int)\n",
    "\n",
    "# Process 'Timestamp' column\n",
    "samples['Timestamp'] = samples['Timestamp'].astype(str)\n",
    "\n",
    "# Split date and time from Timestamp\n",
    "time_parts = samples['Timestamp'].str.split(' ', n=1, expand=True)\n",
    "time_parts.columns = ['date', 'time']\n",
    "\n",
    "# Split hour and millisecond (if present)\n",
    "time_split = time_parts['time'].str.split('.', n=1, expand=True)\n",
    "time_split.columns = ['hour', 'millisecond']\n",
    "\n",
    "# Encode hour using MD5 and convert to number\n",
    "hour_encoded = time_split['hour'].str.encode('utf-8')\n",
    "samples['Timestamp'] = hour_encoded.apply(lambda x: string2numeric_hash(x))\n",
    "\n",
    "# Delete temporary variables\n",
    "del time_parts, time_split, hour_encoded"
   ]
  },
  {
   "cell_type": "code",
   "execution_count": null,
   "id": "2eb1e4c4",
   "metadata": {},
   "outputs": [],
   "source": [
    "del samples['Source IP']\n",
    "del samples['Destination IP']\n",
    "del samples['Flow ID']\n",
    "del samples['SimillarHTTP']\n",
    "del samples['Unnamed: 0']"
   ]
  },
  {
   "cell_type": "code",
   "execution_count": null,
   "id": "58147b10",
   "metadata": {},
   "outputs": [
    {
     "name": "stdout",
     "output_type": "stream",
     "text": [
      "Training data processed\n"
     ]
    }
   ],
   "source": [
    "samples.to_csv(r'D:\\Nam3\\HK2\\ATBM\\DDOS\\Dataset\\export_dataframe_proc.csv', index = None, header=True)\n",
    "print('Training data processed')"
   ]
  },
  {
   "cell_type": "code",
   "execution_count": null,
   "id": "bc96bb0c",
   "metadata": {},
   "outputs": [],
   "source": [
    "# Define function to hash string to numeric value (MD5)\n",
    "def string2numeric_hash(text):\n",
    "   return int(hashlib.md5(text).hexdigest()[:8], 16)\n",
    "\n",
    "# Read test data\n",
    "tests = pd.read_csv(r'D:\\Nam3\\HK2\\ATBM\\DDOS\\Dataset\\export_tests.csv.csv', sep=',', low_memory=False)\n",
    "\n",
    "# Handle Infinity and NaN values\n",
    "tests = tests.replace('Infinity', '0')\n",
    "tests = tests.replace(np.inf, 0)\n",
    "\n",
    "# Convert 'Flow Packets/s' and 'Flow Bytes/s' columns to numeric type\n",
    "tests['Flow Packets/s'] = pd.to_numeric(tests['Flow Packets/s'], errors='coerce').fillna(0)\n",
    "tests['Flow Bytes/s'] = pd.to_numeric(tests['Flow Bytes/s'], errors='coerce').fillna(0)\n",
    "\n",
    "# Assign labels: BENIGN = 0, attack types = 1 (same as training file)\n",
    "attack_labels = [\n",
    "   'DrDoS_DNS', 'DrDoS_LDAP', 'DrDoS_MSSQL', 'DrDoS_NTP',\n",
    "   'DrDoS_NetBIOS', 'DrDoS_SNMP', 'DrDoS_SSDP', 'DrDoS_UDP',\n",
    "   'Syn', 'TFTP', 'UDP-lag', 'WebDDoS', 'LDAP', 'NetBIOS', 'MSSQL', 'Portmap', 'UDP', 'UDPLag'\n",
    "]\n",
    "\n",
    "# Convert 'Label' column to string type\n",
    "tests['Label'] = tests['Label'].astype(str)\n",
    "\n",
    "# Replace 'BENIGN' with 0 and attack labels with 1\n",
    "tests['Label'] = tests['Label'].replace('BENIGN', 0)\n",
    "tests['Label'] = tests['Label'].apply(lambda x: 1 if x in attack_labels else 0)\n",
    "\n",
    "# Convert 'Label' column to int type after replacement\n",
    "tests['Label'] = tests['Label'].astype(int)\n",
    "\n",
    "# Process 'Timestamp' column -> Encode hour\n",
    "tests['Timestamp'] = tests['Timestamp'].astype(str)\n",
    "time_parts = tests['Timestamp'].str.split(' ', n=1, expand=True)\n",
    "time_parts.columns = ['date', 'time']\n",
    "time_split = time_parts['time'].str.split('.', n=1, expand=True)\n",
    "time_split.columns = ['hour', 'millisecond']\n",
    "\n",
    "# Encode hour to MD5 hash and convert to number\n",
    "hour_encoded = time_split['hour'].str.encode('utf-8')\n",
    "tests['Timestamp'] = hour_encoded.apply(lambda x: string2numeric_hash(x))\n",
    "\n",
    "# Delete unnecessary temporary variables\n",
    "del time_parts, time_split, hour_encoded"
   ]
  },
  {
   "cell_type": "code",
   "execution_count": null,
   "id": "c84abe43",
   "metadata": {},
   "outputs": [],
   "source": [
    "# Remove unnecessary columns\n",
    "cols_to_drop = ['Source IP', 'Destination IP', 'Flow ID', 'SimillarHTTP', 'Unnamed: 0']\n",
    "tests.drop(columns=cols_to_drop, inplace=True)"
   ]
  },
  {
   "cell_type": "code",
   "execution_count": null,
   "id": "08dc3acf",
   "metadata": {},
   "outputs": [
    {
     "name": "stdout",
     "output_type": "stream",
     "text": [
      "Test data processed\n"
     ]
    }
   ],
   "source": [
    "# Save the processed file\n",
    "tests.to_csv(r'D:\\Nam3\\HK2\\ATBM\\DDOS\\Dataset\\export_tests_proc.csv', index=False, header=True)\n",
    "print('Test data processed')"
   ]
  }
 ],
 "metadata": {
  "kernelspec": {
   "display_name": "Python 3",
   "language": "python",
   "name": "python3"
  },
  "language_info": {
   "codemirror_mode": {
    "name": "ipython",
    "version": 3
   },
   "file_extension": ".py",
   "mimetype": "text/x-python",
   "name": "python",
   "nbconvert_exporter": "python",
   "pygments_lexer": "ipython3",
   "version": "3.11.9"
  }
 },
 "nbformat": 4,
 "nbformat_minor": 5
}
